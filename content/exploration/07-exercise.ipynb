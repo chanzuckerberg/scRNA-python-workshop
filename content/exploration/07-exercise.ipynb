{
 "cells": [
  {
   "cell_type": "markdown",
   "metadata": {},
   "source": [
    "# Introduction  \n",
    "\n",
    "_This exercise was adapted from the_ [_Alex's Lemonade Stand training module_](https://github.com/AlexsLemonade/training-modules/blob/master/scRNA-seq/04-scrnaseq_exercise.Rmd) _under a Creative Commons Attribution license_. \n",
    "\n",
    "Our objective for this exercise is to investigate the expression of marker genes across cell types.\n",
    "Here we consider *marker genes* to be genes considered by the field to be classic indicators of cell type.\n",
    "\n",
    "These *marker genes* are the ones often used for FAC sorting, which is what was done in [Darmanis et al. _Cell Reports._ 2017.](https://www.ncbi.nlm.nih.gov/pubmed/29091775). \n",
    "\n",
    "Here's a figure from their paper to give you a very brief overview of their \n",
    "FAC sorting methodology. \n",
    "  \n",
    "<img src=\"../figures/glioblastoma_facs.jpg\" width=500>\n",
    "\n",
    "For more details on the methods, [see their manuscript.](https://www.ncbi.nlm.nih.gov/pubmed/29091775)\n",
    "But, in short, this study splits cells from a glioblastoma tumor by their cell-type based on their FAC sorting. \n",
    "\n",
    "The authors identified neoplastic cells using multiple analyses, including a high level of _SOX9_ expression. The neoplastic cells make up the vast majority of the tumor core. So by seeing what marker genes they express, we may get an initial, gene-by-gene idea of how these cells behave. \n",
    "\n",
    "The end result of this exercise will be a heatmap to compare the mean expression of the marker genes by cell type. We will also visualize the marker gene expression in reduced dimensions by creating a principal components scatterplot that color codes each cell by the expression level of a marker gene. \n",
    "\n",
    "The **preprocessing exercise** includes filtering and normalizing the raw expression matrix; the **analysis exercise** starts from a pre-processed expression matrix. You can do either or both of these exercises."
   ]
  },
  {
   "cell_type": "markdown",
   "metadata": {},
   "source": [
    "# Preprocessing exercise\n",
    "\n",
    "## Load raw expression matrix\n",
    "\n",
    "Previously, you unzipped the `data.zip` file, which should leave you with the glioblstoma data in the data directory: `scRNA-python-workshop/content/data/glioblastoma.h5ad`. Load that file. "
   ]
  },
  {
   "cell_type": "code",
   "execution_count": 1,
   "metadata": {},
   "outputs": [],
   "source": [
    "import scanpy as sc\n",
    "\n",
    "adata = sc.read('../data/glioblastoma_raw.h5ad')"
   ]
  },
  {
   "cell_type": "markdown",
   "metadata": {},
   "source": [
    "## Task: quality control\n",
    "\n",
    "Practice filtering based on quality control metrics. You can refer back to the [Quality control](https://chanzuckerberg.github.io/scRNA-python-workshop/preprocessing/01-basic-qc.html) notebook for useful code snippets.  \n",
    "\n",
    "Your workflow should consist of:  \n",
    "\n",
    "1. Calculate quality control metrics  \n",
    "2. Plot the distribution of metrics of interest and determine reasonable thresholds. Do you think the same cutoff values (that we used for the Tabula Muris data) are appropriate for this dataset? Why or why not?  \n",
    "3. Filter out cells and genes using these values. How many cells were removed? How many genes?\n",
    "\n",
    "Compare your results to your neighbor's, and discuss why you made the choices you did. "
   ]
  },
  {
   "cell_type": "code",
   "execution_count": null,
   "metadata": {},
   "outputs": [],
   "source": []
  },
  {
   "cell_type": "markdown",
   "metadata": {},
   "source": [
    "## Task: normalization\n",
    "Practice normalizing this dataset. You can refer back to the [Normalization](https://chanzuckerberg.github.io/scRNA-python-workshop/preprocessing/02-normalization.html) notebook for useful code snippets.  \n",
    "\n",
    "Your workflow should consist of:  \n",
    "1. Using PCA to get a visual overview of the data and potential confounders (e.g., `adata.obs['plate_id']`)\n",
    "1. Adjusting for library size  \n",
    "2. Normalizing gene expression  \n",
    "3. Using PCA to understand how normalization is effecting the data  \n",
    "\n",
    "Compare your results to your neighbor's, and discuss why you made the choices you did. "
   ]
  },
  {
   "cell_type": "code",
   "execution_count": null,
   "metadata": {},
   "outputs": [],
   "source": []
  },
  {
   "cell_type": "markdown",
   "metadata": {},
   "source": [
    "# Analysis exercise\n",
    "\n",
    "## Load data\n",
    "\n",
    "If you did not do the preprocessing exercise above, you can start from this preprocessed data."
   ]
  },
  {
   "cell_type": "code",
   "execution_count": 2,
   "metadata": {},
   "outputs": [],
   "source": [
    "adata = sc.read('../data/glioblastoma_normalized.h5ad')"
   ]
  },
  {
   "cell_type": "markdown",
   "metadata": {},
   "source": [
    "## Task: extract marker genes\n",
    "\n",
    "For this exercise, we want to analyze specific genes and their expression among \n",
    "the cell types in our dataset. We have already added _SOX9_ and _CD45_ as marker genes to investigate as \n",
    "controls, due to their use in the methods for FAC sorting. _MOG_ has been added as a different type of control: a gene that wasn't used for FACS, but is related to myelination, and thus the oligodendrocyte phenotype. \n",
    "\n",
    "Add other genes you are interested in to the gene list we started for you below. \n",
    "You can use  [GeneCard](https://www.genecards.org/.) to get information about \n",
    "your chosen gene. Then add your chosen gene to this data.frame in the same format we have started \n",
    "for you by replacing our `<FILL_IN_THE_BLANKS>`. \n",
    "\n",
    "Note: Here, you'll need to use Ensembl IDs. There are ways to convert these to other forms of gene IDs in a bulk fashion, but for this exercise, we will only need a few genes and we've already set some up for you. "
   ]
  },
  {
   "cell_type": "code",
   "execution_count": 20,
   "metadata": {},
   "outputs": [],
   "source": [
    "# Make a dictionary that contains gene symbols and their associated Ensembl IDs\n",
    "markers = {'Sox9': 'ENSG00000125398',\n",
    "           'Cd45': 'ENSG00000081237',\n",
    "           'Mog': 'ENSG00000204655',\n",
    "#            'REPLACE_GENE_SYMBOL': 'REPLACE_ENSEMBL_GENE_ID'\n",
    "          }"
   ]
  },
  {
   "cell_type": "markdown",
   "metadata": {},
   "source": [
    "Depending on the gene you chose, it may not be in our filtered matrix, so you \n",
    "may need to try a few. \n",
    "You can use an `in` operator to check if the gene you are looking for is in \n",
    "our filtered gene matrix (Remember it has to be an Ensembl gene ID e.g.`ENSG...`,\n",
    "and it needs to be in quotes).\n",
    "\n",
    "Use the phrase below to find out if a gene you are interested in is in the filtered dataset:  \n",
    "\n",
    "`print('ENSG00000125398' in adata.var.index)`"
   ]
  },
  {
   "cell_type": "code",
   "execution_count": null,
   "metadata": {},
   "outputs": [],
   "source": []
  },
  {
   "cell_type": "markdown",
   "metadata": {},
   "source": [
    "## Task: investigate how the mean expression of marker genes compares across cell types\n",
    "\n",
    "Use `sc.pl.heatmap()` to visualize how these marker genes vary across cell types.  \n",
    "\n",
    "What do you think? Do the results make sense? "
   ]
  },
  {
   "cell_type": "code",
   "execution_count": null,
   "metadata": {},
   "outputs": [],
   "source": []
  },
  {
   "cell_type": "markdown",
   "metadata": {},
   "source": [
    "## Task: How does marker gene expression relate to principal components analysis scores across different cell types? \n",
    "\n",
    "Another way to examine the relationship of marker genes and cell types is to \n",
    "make a PCA plot, like we did previously, but color the scatterplot points \n",
    "according to one of the marker gene's expression. \n",
    "\n",
    "Perform PCA on the normalized dataset using `sc.tl.pca()`. \n",
    "\n",
    "Use `sc.pl.pca_scatter()` to make a scatterplot of the PCA results, coloring cells\n",
    "by the expression of a marker gene, of your choosing. \n",
    "\n",
    "After you have successfully made this plot, repeat this for \n",
    "the other genes in your marker list. \n",
    "Make more code chunks as you need them."
   ]
  },
  {
   "cell_type": "code",
   "execution_count": null,
   "metadata": {},
   "outputs": [],
   "source": []
  }
 ],
 "metadata": {
  "kernelspec": {
   "display_name": "Python 3",
   "language": "python",
   "name": "python3"
  },
  "language_info": {
   "codemirror_mode": {
    "name": "ipython",
    "version": 3
   },
   "file_extension": ".py",
   "mimetype": "text/x-python",
   "name": "python",
   "nbconvert_exporter": "python",
   "pygments_lexer": "ipython3",
   "version": "3.7.3"
  }
 },
 "nbformat": 4,
 "nbformat_minor": 2
}
