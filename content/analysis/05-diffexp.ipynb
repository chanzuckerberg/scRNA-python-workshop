{
 "cells": [
  {
   "cell_type": "markdown",
   "metadata": {},
   "source": [
    "# Differential expression & cluster annotation  \n",
    "\n",
    "## Introduction\n",
    "\n",
    "Now that we've assigned cells into clusters, we'd like to understand what makes each cluster different from other cells in the dataset, or to annotate clusters according to their cell types (as has been previously done for this dataset).  \n",
    "\n",
    "There are several approaches to this task:  \n",
    "\n",
    "* Look for upregulation of marker genes for cell types of interest (compared to the rest of the dataset)  \n",
    "* Compare the complete gene expression profiles between groups  \n",
    "* Use automated methods to compare cells of interest to databases of cell type expression profiles to combine clustering and annotation  \n",
    "\n",
    "Automated methods are a promising advance, but are not yet able to replace careful human curation. \n",
    "\n",
    "For well-defined cell types, we expect marker genes to show large differences in expression between the cell type of interest and the rest of the dataset, allowing us to use simple methods. We'll focus on this approach for this workshop, while building intuition that is broadly applicable to other approaches.\n",
    "\n",
    "\n",
    "## Comparing distributions\n",
    "\n",
    "Unlike bulk RNA-seq, we generally have a large number of samples (i.e. cells) for each group we are comparing in single-cell experiments. Thus we can take advantage of the whole distribution of expression values in each group to identify differences between groups rather than only comparing estimates of mean-expression as is standard for bulk RNASeq.\n",
    "\n",
    "There are two main approaches to comparing distributions: parametric and nonparametric. \n",
    "\n",
    "For parametric comparisons, we can infer parameters of a distribution so that it matches the expression values in each group as best as possible. We can then ask whether there are significant differences in the parameters that best describe each group. \n",
    "\n",
    "Alternatively, we can use a non-parametric test which does not assume that expression values follow any particular distribution. Non-parametric tests generally convert observed expression values to ranks and test whether the distribution of ranks for one group are signficantly different from the distribution of ranks for the other group. However, some non-parametric methods fail in the presence of a large number of tied values, such as the case for dropouts (zeros) in single-cell RNA-seq expression data. Moreover, if the conditions for a parametric test hold, then it will typically be more powerful than a non-parametric test.\n",
    "\n",
    "Here, we'll demonstrate N approaches to parametric comparisons between groups."
   ]
  },
  {
   "cell_type": "markdown",
   "metadata": {},
   "source": [
    "## Load data\n",
    "\n",
    "We'll continue working with the mouse brain data with assigned clusters. "
   ]
  },
  {
   "cell_type": "code",
   "execution_count": null,
   "metadata": {},
   "outputs": [],
   "source": [
    "import scanpy as sc\n",
    "import numpy as np\n",
    "import matplotlib.pyplot as plt\n",
    "%matplotlib inline\n",
    "\n",
    "adata = sc.read('../data/brain_')"
   ]
  },
  {
   "cell_type": "markdown",
   "metadata": {},
   "source": [
    "### Important note! For differential expression, we need to use the _raw_ values stored in `adata.raw`.\n",
    "\n",
    "With differential expression, we want to account for both the center and spread of the expression in each group. Recall that when we normalized our values, we standardized the distribution of each gene across cells to be centered at 0 and scaled with variance 1. "
   ]
  },
  {
   "cell_type": "code",
   "execution_count": null,
   "metadata": {},
   "outputs": [],
   "source": []
  },
  {
   "cell_type": "markdown",
   "metadata": {},
   "source": [
    "This has several tricky questions embedded in it:  \n",
    "* What constitutes a cell type? With what granularity? (E.g., lymphocytes > T cells > CD4+ T cells)  \n",
    "* How does cell state interact with cell type? (E.g., when annotating in/activated T cells)  \n",
    "* "
   ]
  }
 ],
 "metadata": {
  "kernelspec": {
   "display_name": "Python 3",
   "language": "python",
   "name": "python3"
  },
  "language_info": {
   "codemirror_mode": {
    "name": "ipython",
    "version": 3
   },
   "file_extension": ".py",
   "mimetype": "text/x-python",
   "name": "python",
   "nbconvert_exporter": "python",
   "pygments_lexer": "ipython3",
   "version": "3.7.4"
  }
 },
 "nbformat": 4,
 "nbformat_minor": 2
}
