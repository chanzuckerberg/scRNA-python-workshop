{
 "cells": [
  {
   "cell_type": "markdown",
   "metadata": {},
   "source": [
    "# Introduction\n",
    "\n",
    "Once we have our expression matrix, it should be examined to remove poor quality cells which were not detected in the initial processing of the raw reads. Failure to remove low quality cells at this\n",
    "stage may add technical noise which has the potential to obscure\n",
    "the biological signals of interest in the downstream analysis. \n",
    "\n",
    "Since there is currently no standard method for performing scRNAseq, the expected values for the various QC measures that will be presented here can vary substantially from experiment to experiment. Thus, to perform QC we will be looking for cells which are outliers with respect to the rest of the dataset rather than comparing to independent quality standards. Consequently, care should be taken when comparing quality metrics across datasets collected using different protocols.\n",
    "\n",
    "\n",
    "#  Dataset\n",
    "\n",
    "We'll continue working with the Tabula Muris brain data that we prepared earlier: "
   ]
  },
  {
   "cell_type": "code",
   "execution_count": 1,
   "metadata": {},
   "outputs": [],
   "source": [
    "import scanpy as sc # import scanpy to handle our AnnData \n",
    "import pandas as pd # import pandas to handle dataframes\n",
    "import matplotlib.pyplot as plt # import matplotlib to visualize our qc metrics\n",
    "\n",
    "# magic incantation to help matplotlib work with our jupyter notebook\n",
    "%matplotlib inline "
   ]
  },
  {
   "cell_type": "code",
   "execution_count": 4,
   "metadata": {},
   "outputs": [],
   "source": [
    "adata = sc.read('../data/brain_raw.h5ad')"
   ]
  },
  {
   "cell_type": "markdown",
   "metadata": {},
   "source": [
    "As an aside, you'll notice that both here and in the previous notebook we read data into python objects using some variation on `package.read*`, where `*` indicates that there is some possible suffix. Developers of python data packages that we'll be using today, and many others in the ecosystem try very hard to group objects so that they are discoverable. \n",
    "\n",
    "One method of discovering functionality in python is to read documentation. Another is to use __tab-completion__ to find similar functions. For reading files, it's usually possible to see what possibilities there are by tab completing `package.read`, `package.load`, or `package.open`. It's unusual for these functions to start with other words. \n",
    "\n",
    "For writing files, usually the pattern is `object.save` or `object.write`. In this case, try using the `package.read` pattern by tab completing `sc.read` and see what happens. What about tab completion with the `object.write` pattern using the `adata` object we just loaded? "
   ]
  },
  {
   "cell_type": "code",
   "execution_count": null,
   "metadata": {},
   "outputs": [],
   "source": []
  },
  {
   "cell_type": "markdown",
   "metadata": {},
   "source": [
    "Knowing this pattern is very helpful. Unfortunately, data files containing expression information will often come in all shapes and sizes. Thankfully, developers of these packages are aware of the common types, and may have already designed readers and writers to make them easy to work with. With this knowledge in hand, you'll be well equipped to execute the following tasks on data stored in a broader variety of file formats."
   ]
  },
  {
   "cell_type": "markdown",
   "metadata": {},
   "source": [
    "## Computing quality control metrics \n",
    "We'll compute quality metrics and then filter cells and genes accordingly.\n",
    "\n",
    "The `calculate_qc_metrics` function returns two dataframes: one containing quality control metrics about cells, and one containing metrics about genes. This function is housed in the 'preprocessing' portion of the SCANPY library, which you can read more about [here](https://icb-scanpy.readthedocs-hosted.com/en/stable/api/index.html#module-scanpy.pp)."
   ]
  },
  {
   "cell_type": "code",
   "execution_count": 3,
   "metadata": {},
   "outputs": [
    {
     "name": "stdout",
     "output_type": "stream",
     "text": [
      "This is the cell quality control dataframe:\n",
      "                       n_genes_by_counts  log1p_n_genes_by_counts  \\\n",
      "index                                                               \n",
      "A1.B003290.3_38_F.1.1               3359                 8.119696   \n",
      "A1.B003728.3_56_F.1.1               1718                 7.449498   \n",
      "\n",
      "                       total_counts  log1p_total_counts  \\\n",
      "index                                                     \n",
      "A1.B003290.3_38_F.1.1      390075.0           12.874097   \n",
      "A1.B003728.3_56_F.1.1      776439.0           13.562474   \n",
      "\n",
      "                       pct_counts_in_top_50_genes  \\\n",
      "index                                               \n",
      "A1.B003290.3_38_F.1.1                   25.884766   \n",
      "A1.B003728.3_56_F.1.1                   43.051933   \n",
      "\n",
      "                       pct_counts_in_top_100_genes  \\\n",
      "index                                                \n",
      "A1.B003290.3_38_F.1.1                    32.847017   \n",
      "A1.B003728.3_56_F.1.1                    52.912721   \n",
      "\n",
      "                       pct_counts_in_top_200_genes  \\\n",
      "index                                                \n",
      "A1.B003290.3_38_F.1.1                    42.219573   \n",
      "A1.B003728.3_56_F.1.1                    65.313309   \n",
      "\n",
      "                       pct_counts_in_top_500_genes  total_counts_ERCC  \\\n",
      "index                                                                   \n",
      "A1.B003290.3_38_F.1.1                    59.472666            10201.0   \n",
      "A1.B003728.3_56_F.1.1                    87.315423            67351.0   \n",
      "\n",
      "                       log1p_total_counts_ERCC  pct_counts_ERCC  \n",
      "index                                                            \n",
      "A1.B003290.3_38_F.1.1                 9.230339         2.615138  \n",
      "A1.B003728.3_56_F.1.1                11.117688         8.674345  \n",
      "\n",
      "\n",
      "\n",
      "\n",
      "This is the gene quality control dataframe:\n",
      "               n_cells_by_counts  mean_counts  log1p_mean_counts  \\\n",
      "index                                                              \n",
      "0610005C13Rik                 28     0.118201           0.111721   \n",
      "0610007C21Rik               2399   206.211990           5.333742   \n",
      "\n",
      "               pct_dropout_by_counts  total_counts  log1p_total_counts  \n",
      "index                                                                   \n",
      "0610005C13Rik              99.176713         402.0            5.998937  \n",
      "0610007C21Rik              29.461923      701327.0           13.460731  \n"
     ]
    }
   ],
   "source": [
    "qc = sc.pp.calculate_qc_metrics(adata, qc_vars = ['ERCC'])# this returns a tuple of (cell_qc_dataframe, gene_qc_dataframe)\n",
    "                                 # ask for the percentage of reads from spike ins\n",
    "                                \n",
    "cell_qc_dataframe = qc[0]\n",
    "gene_qc_dataframe = qc[1]\n",
    "\n",
    "print('This is the cell quality control dataframe:')\n",
    "print(cell_qc_dataframe.head(2))\n",
    "\n",
    "print('\\n\\n\\n\\nThis is the gene quality control dataframe:')\n",
    "print(gene_qc_dataframe.head(2))"
   ]
  },
  {
   "cell_type": "markdown",
   "metadata": {},
   "source": [
    "# Quality control for cells\n",
    "\n",
    "## Library size\n",
    "First, we consider the total number of reads detected per cell.\n",
    "Cells with few reads are likely to have been broken or failed to capture a cell, and should thus be removed."
   ]
  },
  {
   "cell_type": "code",
   "execution_count": 4,
   "metadata": {},
   "outputs": [
    {
     "data": {
      "text/plain": [
       "<matplotlib.lines.Line2D at 0x13a25c390>"
      ]
     },
     "execution_count": 4,
     "metadata": {},
     "output_type": "execute_result"
    },
    {
     "data": {
      "image/png": "[encoded data removed]",
      "text/plain": [
       "<Figure size 432x288 with 1 Axes>"
      ]
     },
     "metadata": {
      "needs_background": "light"
     },
     "output_type": "display_data"
    }
   ],
   "source": [
    "plt.hist(cell_qc_dataframe['total_counts'], bins=1000)\n",
    "plt.xlabel('Total counts')\n",
    "plt.ylabel('N cells')\n",
    "plt.axvline(50000, color='red')\n",
    "# plt.xlim(0,1e6) # Try plotting with and without scaling the x-axis. When is this helpful?"
   ]
  },
  {
   "cell_type": "markdown",
   "metadata": {},
   "source": [
    "Looks like the authors have already removed cells with fewer than 50,000 reads."
   ]
  },
  {
   "cell_type": "markdown",
   "metadata": {},
   "source": [
    "## Detected genes\n",
    "\n",
    "In addition to ensuring sufficient sequencing depth for each sample, we also want to make sure that the reads are distributed across the transcriptome. Thus, we count the total number of unique genes detected in each sample."
   ]
  },
  {
   "cell_type": "code",
   "execution_count": 5,
   "metadata": {},
   "outputs": [
    {
     "data": {
      "text/plain": [
       "<matplotlib.lines.Line2D at 0x13a25c828>"
      ]
     },
     "execution_count": 5,
     "metadata": {},
     "output_type": "execute_result"
    },
    {
     "data": {
      "image/png": "[encoded data removed]",
      "text/plain": [
       "<Figure size 432x288 with 1 Axes>"
      ]
     },
     "metadata": {
      "needs_background": "light"
     },
     "output_type": "display_data"
    }
   ],
   "source": [
    "plt.hist(cell_qc_dataframe['n_genes_by_counts'], bins=100)\n",
    "plt.xlabel('N genes')\n",
    "plt.ylabel('N cells')\n",
    "plt.axvline(1000, color='red')"
   ]
  },
  {
   "cell_type": "markdown",
   "metadata": {},
   "source": [
    "From the plot we conclude that most cells have between ~1,000-5,000 detected genes,\n",
    "which is typical for smartseq2 data. However, this varies by\n",
    "experimental protocol and sequencing depth. \n",
    "\n",
    "The most notable feature in the above plot is the little peak on the left hand side of the\n",
    "distribution. If detection rates were equal across the cells then the\n",
    "distribution should be approximately normal. Thus, we will remove those\n",
    "cells in the tail of the distribution (fewer than ~1000 detected genes)."
   ]
  },
  {
   "cell_type": "markdown",
   "metadata": {},
   "source": [
    "## Spike-ins\n",
    "\n",
    "Another measure of cell quality is the ratio between ERCC spike-in RNAs and endogenous RNAs. This ratio can be used to estimate the total amount of RNA in the captured cells. Cells with a high level of spike-in RNAs had low starting amounts of RNA, likely due to the cell being dead or stressed which may result in the RNA being degraded."
   ]
  },
  {
   "cell_type": "markdown",
   "metadata": {},
   "source": [
    "### Exercise  \n",
    "\n",
    "Plot the distribution of `pct_counts_ERCC` in this dataset. What do you think is a reasonable threshold? \n",
    "\n",
    "<p>\n",
    "<details>\n",
    "<summary><h3>Solution</h3></summary>\n",
    "<code style=display:block;white-space:pre-wrap>plt.hist(cell_qc_dataframe['pct_counts_ERCC'], bins=1000)\n",
    "plt.xlabel('Percent counts ERCC')\n",
    "plt.ylabel('N cells')\n",
    "plt.axvline(10, color='red')</code>\n",
    "<p/>    \n",
    "Placing a threshold is always a judgement call. Here, the majority of cells have less than 10% ERCC counts, but there's a long tail of cells that have very high spike-in counts; these are likely dead cells and should be removed. \n",
    "</details>\n",
    "</p>"
   ]
  },
  {
   "cell_type": "code",
   "execution_count": null,
   "metadata": {},
   "outputs": [],
   "source": [
    "plt.hist(...)\n",
    "plt.xlabel(...)\n",
    "plt.ylabel(...)\n",
    "plt.axvline(...)\n"
   ]
  },
  {
   "cell_type": "markdown",
   "metadata": {},
   "source": [
    "## Cell filtering\n",
    "\n",
    "Now we can define a cell filter based on our findings:"
   ]
  },
  {
   "cell_type": "markdown",
   "metadata": {},
   "source": [
    "There isn't an automatic function for removing cells with a high percentage of ERCC reads, but we can use a _mask_ to remove them like so:"
   ]
  },
  {
   "cell_type": "code",
   "execution_count": 6,
   "metadata": {},
   "outputs": [],
   "source": [
    "low_ERCC_mask = (cell_qc_dataframe['pct_counts_ERCC'] < 10)\n",
    "adata = adata[low_ERCC_mask]"
   ]
  },
  {
   "cell_type": "markdown",
   "metadata": {},
   "source": [
    "### Exercise  \n",
    "\n",
    "Use the SCANPY function `sc.pp.filter_cells()` to filter cells with fewer 750 genes detected. How many cells does this remove?  \n",
    "_Hint: start with the Parameters list in `help(sc.pp.filter_cells)`\n",
    "\n",
    "<p>\n",
    "<details>\n",
    "<summary><h3>Solution</h3></summary>\n",
    "<code style=display:block;white-space:pre-wrap>print('Started with: \\n', adata)\n",
    "sc.pp.filter_cells(adata, min_genes = 750)\n",
    "print('Finished with: \\n', adata)</code>\n",
    "</details>\n",
    "</p>"
   ]
  },
  {
   "cell_type": "code",
   "execution_count": 11,
   "metadata": {},
   "outputs": [
    {
     "name": "stderr",
     "output_type": "stream",
     "text": [
      "Trying to set attribute `.obs` of view, making a copy.\n"
     ]
    }
   ],
   "source": [
    "help(sc.pp.filter_cells)\n",
    "\n"
   ]
  },
  {
   "cell_type": "markdown",
   "metadata": {},
   "source": [
    "## Quality control for genes\n",
    "\n",
    "It is typically a good idea to remove genes whose expression level is considered __\"undetectable\"__. We define a gene as  detectable if at least two cells contain more than 5 reads from the gene. However, the threshold strongly depends on the sequencing depth. It is important to keep in mind that genes must be filtered after cell filtering since some genes may only be detected in poor quality cells."
   ]
  },
  {
   "cell_type": "code",
   "execution_count": null,
   "metadata": {},
   "outputs": [],
   "source": []
  },
  {
   "cell_type": "code",
   "execution_count": 23,
   "metadata": {},
   "outputs": [
    {
     "data": {
      "image/png": "[encoded data removed]",
      "text/plain": [
       "<Figure size 432x288 with 1 Axes>"
      ]
     },
     "metadata": {
      "needs_background": "light"
     },
     "output_type": "display_data"
    }
   ],
   "source": [
    "plt.hist(gene_qc_dataframe['n_cells_by_counts'], bins=1000)\n",
    "plt.xlabel('N cells expressing > 0')\n",
    "plt.ylabel('log(N genes)') # for visual clarity\n",
    "plt.axvline(2, color='red')\n",
    "plt.yscale('log') "
   ]
  },
  {
   "cell_type": "code",
   "execution_count": 37,
   "metadata": {},
   "outputs": [
    {
     "data": {
      "text/plain": [
       "<matplotlib.lines.Line2D at 0x12fffcba8>"
      ]
     },
     "execution_count": 37,
     "metadata": {},
     "output_type": "execute_result"
    },
    {
     "data": {
      "image/png": "[encoded data removed]",
      "text/plain": [
       "<Figure size 432x288 with 1 Axes>"
      ]
     },
     "metadata": {
      "needs_background": "light"
     },
     "output_type": "display_data"
    }
   ],
   "source": [
    "plt.hist(gene_qc_dataframe['total_counts'], bins=1000)\n",
    "plt.xlabel('Total counts')\n",
    "plt.ylabel('log(N genes)') # for visual clarity\n",
    "plt.yscale('log') \n",
    "plt.axvline(10, color='red')"
   ]
  },
  {
   "cell_type": "markdown",
   "metadata": {},
   "source": [
    "### Exercise  \n",
    "\n",
    "Use the SCANPY function `sc.pp.filter_genes()` to filter genes according to the criteria above. How many genes does this remove?  \n",
    "_Hint: start with the Parameters list in `help(sc.pp.filter_genes)`\n",
    "\n",
    "<p>\n",
    "<details>\n",
    "<summary><h3>Solution</h3></summary>\n",
    "<code style=display:block;white-space:pre-wrap>print('Started with: \\n', adata)\n",
    "sc.pp.filter_genes(adata, min_cells = 2)\n",
    "sc.pp.filter_genes(adata, min_counts = 10)\n",
    "print('Finished with: \\n', adata)</code>\n",
    "</details>\n",
    "</p>"
   ]
  },
  {
   "cell_type": "code",
   "execution_count": 39,
   "metadata": {},
   "outputs": [],
   "source": [
    "help(sc.pp.filter_genes)\n",
    "\n"
   ]
  },
  {
   "cell_type": "markdown",
   "metadata": {},
   "source": [
    "### Save the data"
   ]
  },
  {
   "cell_type": "code",
   "execution_count": 10,
   "metadata": {},
   "outputs": [],
   "source": [
    "# print(adata) ## Final dimensions of the QC'd dataset\n",
    "adata.write('../data/brain_qc.h5ad')"
   ]
  }
 ],
 "metadata": {
  "kernelspec": {
   "display_name": "Python 3",
   "language": "python",
   "name": "python3"
  },
  "language_info": {
   "codemirror_mode": {
    "name": "ipython",
    "version": 3
   },
   "file_extension": ".py",
   "mimetype": "text/x-python",
   "name": "python",
   "nbconvert_exporter": "python",
   "pygments_lexer": "ipython3",
   "version": "3.7.3"
  }
 },
 "nbformat": 4,
 "nbformat_minor": 2
}
