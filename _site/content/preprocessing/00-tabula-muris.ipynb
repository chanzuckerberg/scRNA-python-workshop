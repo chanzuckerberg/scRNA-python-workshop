{
 "cells": [
  {
   "cell_type": "markdown",
   "metadata": {},
   "source": [
    "# Tabula Muris\n",
    "\n",
    "## Introduction\n",
    "\n",
    "To give you hands-on experience analyzing a single-cell RNASeq dataset from start to finish, we will be using data from [Tabula Muris](https://tabula-muris.ds.czbiohub.org/) as an example. The Tabula Muris is a collaborative effort to profile every mouse tissue at a single-cell level. The full dataset includes both high throughput but low-coverage 10X data and lower throughput but high-coverage Smartseq2 data.\n",
    "\n",
    "For this workshop, we will be using the Smartseq2 data from the mouse brain. This data consists of:  \n",
    "1. an __expression matrix__ where each column corresponds to a gene (or transcript) and each row corresponds to a single cell  \n",
    "2. a table of __metadata__ describing each cell\n",
    "\n",
    "## Downloading the data\n",
    "\n",
    "You can find the prepared expression matrix and metadata [here](INSERT LINK). You should save these files in the directory `scRNA-couse/content/data/`.\n",
    "\n",
    "## Reading the data\n",
    "\n",
    "We can now read in the count matrix from the comma-separated file. Then inspect the resulting dataframe:"
   ]
  },
  {
   "cell_type": "code",
   "execution_count": 1,
   "metadata": {},
   "outputs": [],
   "source": [
    "import pandas as pd ## load in the pandas library for working with dataframes"
   ]
  },
  {
   "cell_type": "code",
   "execution_count": 2,
   "metadata": {},
   "outputs": [
    {
     "name": "stdout",
     "output_type": "stream",
     "text": [
      "                         0610005C13Rik  0610007C21Rik  0610007L01Rik  \\\n",
      "A1.B003290.3_38_F.1.1                0            125             16   \n",
      "A1.B003728.3_56_F.1.1                0              0              0   \n",
      "A1.MAA000560.3_10_M.1.1              0            348              0   \n",
      "A1.MAA000564.3_10_M.1.1              0             41             36   \n",
      "A1.MAA000923.3_9_M.1.1               0             53              0   \n",
      "\n",
      "                         0610007N19Rik  0610007P08Rik  0610007P14Rik  \\\n",
      "A1.B003290.3_38_F.1.1                0              0              0   \n",
      "A1.B003728.3_56_F.1.1                0              0            324   \n",
      "A1.MAA000560.3_10_M.1.1              0              0              5   \n",
      "A1.MAA000564.3_10_M.1.1              0              0             24   \n",
      "A1.MAA000923.3_9_M.1.1               0              0              0   \n",
      "\n",
      "                         0610007P22Rik  0610008F07Rik  0610009B14Rik  \\\n",
      "A1.B003290.3_38_F.1.1                0              0              0   \n",
      "A1.B003728.3_56_F.1.1                0              0              0   \n",
      "A1.MAA000560.3_10_M.1.1              0              0              0   \n",
      "A1.MAA000564.3_10_M.1.1              0              0              0   \n",
      "A1.MAA000923.3_9_M.1.1               0              0              0   \n",
      "\n",
      "                         0610009B22Rik  ...  Zxdb  Zxdc  Zyg11a  Zyg11b  Zyx  \\\n",
      "A1.B003290.3_38_F.1.1                0  ...     0     0       0       0    0   \n",
      "A1.B003728.3_56_F.1.1                0  ...     0     0       0       0    0   \n",
      "A1.MAA000560.3_10_M.1.1              0  ...     0     0       0       0    0   \n",
      "A1.MAA000564.3_10_M.1.1             14  ...     0     0       0       0  125   \n",
      "A1.MAA000923.3_9_M.1.1               0  ...     0     0       0      81    0   \n",
      "\n",
      "                         Zzef1  Zzz3  a  l7Rn6  zsGreen_transgene  \n",
      "A1.B003290.3_38_F.1.1        0     0  0     54                  0  \n",
      "A1.B003728.3_56_F.1.1        0     0  0      0                  0  \n",
      "A1.MAA000560.3_10_M.1.1    195     0  0    113                  0  \n",
      "A1.MAA000564.3_10_M.1.1      0     1  0      0                  0  \n",
      "A1.MAA000923.3_9_M.1.1       0     0  0      0                  0  \n",
      "\n",
      "[5 rows x 23433 columns]\n"
     ]
    }
   ],
   "source": [
    "## tell pandas to make a new DataFrame with the contents of `brain_counts.csv`. This might take a minute.\n",
    "count_dataframe = pd.read_csv('../data/brain_counts.csv', # where to find the data\n",
    "                              index_col=0) # use the first column to label the rows (the 'index')\n",
    "\n",
    "## print the first 5 rows of our dataframe\n",
    "print(count_dataframe.head()) "
   ]
  },
  {
   "cell_type": "markdown",
   "metadata": {},
   "source": [
    "### Exercise  \n",
    "\n",
    "What do the column names represent? What do the row names represent? How many cells and genes are in this dataset?\n",
    "\n",
    "Hint: need some help? Try `help(pd.DataFrame.shape)`.\n",
    "\n",
    "<p>\n",
    "<details>\n",
    "<summary><h3>Solution</h3></summary>\n",
    "The column names represent genes. \n",
    "The row names represent unique cell identifiers that were assigned by the authors of the dataset.\n",
    "<p>\n",
    "We can find out how many genes and cells are in the dataset by asking for its <code>shape</code>:  <br>\n",
    "<code>print(count_dataframe.shape)</code><br>\n",
    "gives:<br>\n",
    "<code>(3401, 23433)</code>\n",
    "<p>\n",
    "which represents <code>(N rows, N columns)</code>.\n",
    "</details>"
   ]
  },
  {
   "cell_type": "code",
   "execution_count": null,
   "metadata": {},
   "outputs": [],
   "source": []
  },
  {
   "cell_type": "markdown",
   "metadata": {},
   "source": [
    "## Reading the metadata\n",
    "\n",
    "The authors have also provided metadata describing each cell. This metadata is stored in a separate file, `brain_metadata.csv`. We can load it into a dataframe and inspect it, just like we did for the count data. \n",
    "\n",
    "### Exercise  \n",
    "\n",
    "Load the metadata from the csv file into a pandas dataframe called `metadata_dataframe`. Does it have the same dimensions and index as the `counts_dataframe`?\n",
    "\n",
    "<p>\n",
    "<details>\n",
    "<summary><h3>Solution</h3></summary>\n",
    "First, we need to load in the metadata.<br>\n",
    "<code>metadata_dataframe = pd.read_csv('../data/brain_metadata.csv', # where to find the data\n",
    "                           index_col=0) # use the first column as the index</code>\n",
    "    \n",
    "<p>\n",
    "Let's take a peak at the resulting dataframe to make sure it looks correct. <br>\n",
    "<code>print(metadata_dataframe.shape)</code><br>\n",
    "<code>>>> (3401, 5)</code><br>\n",
    "We have 5 columns of information about 3,401 cells. Sounds reasonable.\n",
    "    \n",
    "<p>\n",
    "Let's take a closer look and inspect the first few rows:<br>\n",
    "<code>print(metadata_dataframe.head())</code><br>\n",
    "<code>>>>                        cell_ontology_class    subtissue mouse.sex mouse.id  \\\n",
    "cell                                                                          \n",
    "A1.B003290.3_38_F.1.1             astrocyte     Striatum         F   3_38_F   \n",
    "A1.B003728.3_56_F.1.1             astrocyte     Striatum         F   3_56_F   \n",
    "A1.MAA000560.3_10_M.1.1     oligodendrocyte       Cortex         M   3_10_M   \n",
    "A1.MAA000564.3_10_M.1.1    endothelial cell     Striatum         M   3_10_M   \n",
    "A1.MAA000923.3_9_M.1.1            astrocyte  Hippocampus         M    3_9_M   \n",
    "                        plate.barcode  \n",
    "cell                                   \n",
    "A1.B003290.3_38_F.1.1         B003290  \n",
    "A1.B003728.3_56_F.1.1         B003728  \n",
    "A1.MAA000560.3_10_M.1.1     MAA000560  \n",
    "A1.MAA000564.3_10_M.1.1     MAA000564  \n",
    "A1.MAA000923.3_9_M.1.1      MAA000923</code>\n",
    "</details>"
   ]
  },
  {
   "cell_type": "code",
   "execution_count": 3,
   "metadata": {},
   "outputs": [],
   "source": []
  },
  {
   "cell_type": "markdown",
   "metadata": {},
   "source": [
    "### Exercise  \n",
    "\n",
    "To get a sense for what is in this dataset, let's look at the summary of each metadata column. \n",
    "\n",
    "1. How many cells from each `subtissue` label are in this dataset? <br>\n",
    "_Hint: try running `help(pd.value_counts())` to get started_  \n",
    "<p>\n",
    "2. Using a `for` loop, repeat this counting procedure to summarize each of the metadata columns.  <br>\n",
    "_Hint: you can access all the column names in the dataframe with `columns = metadata_dataframe.columns.values`_  \n",
    "\n",
    "\n",
    "<p>\n",
    "<details>\n",
    "<summary><h3>Solution</h3></summary>\n",
    "1. We can count the number of times each value appears in a column like this:<br>\n",
    "    <code>print(pd.value_counts(metadata_dataframe['subtissue']))</code><br>\n",
    "    <code>>>>        \n",
    "Cortex         1149\n",
    "Hippocampus     976\n",
    "Striatum        723\n",
    "Cerebellum      553\n",
    "Name: subtissue, dtype: int64</code>\n",
    "    <p>\n",
    "2. To repeat this for each column in the dataframe, we can use a <code>for</code> loop:<br>\n",
    "<code>for column in metadata_dataframe.columns.values:\n",
    "    print(pd.value_counts(metadata_dataframe[column]))</code>\n",
    "</details>"
   ]
  },
  {
   "cell_type": "code",
   "execution_count": null,
   "metadata": {},
   "outputs": [],
   "source": []
  },
  {
   "cell_type": "markdown",
   "metadata": {},
   "source": [
    "## Building an AnnData object"
   ]
  },
  {
   "cell_type": "markdown",
   "metadata": {},
   "source": [
    "We now have two dataframes, containing the counts and metadata from the Tabula Muris brain dataset. To keep these organized, we'll use a **data structure** called **AnnData**. AnnData stands for \"annotated data,\" and is the standard format used by the analysis library, **SCANPY**. \n",
    "\n",
    "AnnData uses some generalized vocabulary to describe cells and genes: they refer to cells as **observations** and genes as **variables**. This data structure has four areas where we can store information:  \n",
    "\n",
    "<img src=\"../figures/anndata.svg\" alt=\"Drawing\" style=\"width: 500px;\"/>\n",
    "\n",
    "`AnnData.X` stores the count matrix  \n",
    "`AnnData.obs` stores metadata about the observations (cells)  \n",
    "`AnnData.var` stores metadata about the variables (genes)  \n",
    "`AnnData.uns` stores any additional, unstructured information we decide to attach later  \n",
    "\n",
    "\n",
    "\n",
    "Here, we have a count matrix and metadata that describes each cell, so we will use the `.X` and `.obs` portions of the AnnData structure. "
   ]
  },
  {
   "cell_type": "code",
   "execution_count": 4,
   "metadata": {},
   "outputs": [],
   "source": [
    "import scanpy as sc # import the scanpy library that tells Python how an AnnData data structure works"
   ]
  },
  {
   "cell_type": "code",
   "execution_count": 5,
   "metadata": {},
   "outputs": [
    {
     "name": "stdout",
     "output_type": "stream",
     "text": [
      "AnnData object with n_obs × n_vars = 3401 × 23433 \n",
      "    obs: 'cell_ontology_class', 'subtissue', 'mouse.sex', 'mouse.id', 'plate.barcode'\n"
     ]
    }
   ],
   "source": [
    "# help(sc.AnnData)\n",
    "adata = sc.AnnData(X = count_dataframe, obs = metadata_dataframe)\n",
    "print(adata)"
   ]
  },
  {
   "cell_type": "markdown",
   "metadata": {},
   "source": [
    "### Labeling spike-ins\n",
    "Because this is smartseq2 data, we may have spike-ins. These gene names start with `ERCC`. We can label them in `adata.var` as a gene annotation."
   ]
  },
  {
   "cell_type": "code",
   "execution_count": 6,
   "metadata": {},
   "outputs": [
    {
     "name": "stdout",
     "output_type": "stream",
     "text": [
      "found this many spike ins:  92\n"
     ]
    }
   ],
   "source": [
    "is_spike_in = {}\n",
    "number_of_spike_ins = 0\n",
    "\n",
    "for gene_name in adata.var_names:\n",
    "    if 'ERCC' in gene_name:\n",
    "        is_spike_in[gene_name] = True # record that we found a spike-in\n",
    "        number_of_spike_ins += 1 # bump the counter\n",
    "    else:\n",
    "        is_spike_in[gene_name] = False # record that this was not a spike-in\n",
    "        \n",
    "adata.var['ERCC'] = pd.Series(is_spike_in) # because the index of adata.var and the keys of is_spike_in match, anndata will take care of matching them up\n",
    "print('found this many spike ins: ', number_of_spike_ins)"
   ]
  },
  {
   "cell_type": "markdown",
   "metadata": {},
   "source": [
    "Now that we've finished building our AnnData object, we can save it in a file for later use like so:"
   ]
  },
  {
   "cell_type": "code",
   "execution_count": 8,
   "metadata": {
    "scrolled": true
   },
   "outputs": [
    {
     "name": "stderr",
     "output_type": "stream",
     "text": [
      "... storing 'cell_ontology_class' as categorical\n",
      "... storing 'subtissue' as categorical\n",
      "... storing 'mouse.sex' as categorical\n",
      "... storing 'mouse.id' as categorical\n",
      "... storing 'plate.barcode' as categorical\n"
     ]
    }
   ],
   "source": [
    "adata.write('../data/brain_raw.h5ad') ## the h5ad extension is AnnData-specific"
   ]
  },
  {
   "cell_type": "code",
   "execution_count": null,
   "metadata": {},
   "outputs": [],
   "source": []
  }
 ],
 "metadata": {
  "kernelspec": {
   "display_name": "Python 3",
   "language": "python",
   "name": "python3"
  },
  "language_info": {
   "codemirror_mode": {
    "name": "ipython",
    "version": 3
   },
   "file_extension": ".py",
   "mimetype": "text/x-python",
   "name": "python",
   "nbconvert_exporter": "python",
   "pygments_lexer": "ipython3",
   "version": "3.7.4"
  }
 },
 "nbformat": 4,
 "nbformat_minor": 2
}
